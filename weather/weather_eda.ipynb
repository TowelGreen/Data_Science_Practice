{
 "cells": [
  {
   "cell_type": "markdown",
   "id": "399229e9",
   "metadata": {},
   "source": [
    "Import libraries "
   ]
  },
  {
   "cell_type": "code",
   "execution_count": 1,
   "id": "43d4cfbf",
   "metadata": {},
   "outputs": [],
   "source": [
    "import pandas as pd"
   ]
  },
  {
   "cell_type": "code",
   "execution_count": 2,
   "id": "a45a28a3",
   "metadata": {},
   "outputs": [],
   "source": [
    "import matplotlib.pyplot as plt\n",
    "from matplotlib import dates as mdates"
   ]
  },
  {
   "cell_type": "markdown",
   "id": "9bcadff1",
   "metadata": {},
   "source": [
    "Load data"
   ]
  },
  {
   "cell_type": "code",
   "execution_count": 2,
   "id": "223cea42",
   "metadata": {},
   "outputs": [],
   "source": [
    "df = pd.read_csv('weather.csv')"
   ]
  },
  {
   "cell_type": "code",
   "execution_count": 4,
   "id": "bc386959",
   "metadata": {},
   "outputs": [
    {
     "data": {
      "text/html": [
       "<div>\n",
       "<style scoped>\n",
       "    .dataframe tbody tr th:only-of-type {\n",
       "        vertical-align: middle;\n",
       "    }\n",
       "\n",
       "    .dataframe tbody tr th {\n",
       "        vertical-align: top;\n",
       "    }\n",
       "\n",
       "    .dataframe thead th {\n",
       "        text-align: right;\n",
       "    }\n",
       "</style>\n",
       "<table border=\"1\" class=\"dataframe\">\n",
       "  <thead>\n",
       "    <tr style=\"text-align: right;\">\n",
       "      <th></th>\n",
       "      <th>Unnamed: 0</th>\n",
       "      <th>Time</th>\n",
       "      <th>Temperature</th>\n",
       "      <th>Dew Point</th>\n",
       "      <th>Humidity</th>\n",
       "      <th>Wind Speed</th>\n",
       "      <th>Wind Gust</th>\n",
       "      <th>Pressure</th>\n",
       "      <th>Precipitation</th>\n",
       "      <th>Wind</th>\n",
       "      <th>Condition</th>\n",
       "      <th>Date</th>\n",
       "    </tr>\n",
       "  </thead>\n",
       "  <tbody>\n",
       "    <tr>\n",
       "      <th>0</th>\n",
       "      <td>0</td>\n",
       "      <td>12:00 AM</td>\n",
       "      <td>61</td>\n",
       "      <td>59</td>\n",
       "      <td>94</td>\n",
       "      <td>15</td>\n",
       "      <td>0</td>\n",
       "      <td>29.77</td>\n",
       "      <td>0.0</td>\n",
       "      <td>SSE</td>\n",
       "      <td>Light Rain Shower</td>\n",
       "      <td>2021-12-1</td>\n",
       "    </tr>\n",
       "    <tr>\n",
       "      <th>1</th>\n",
       "      <td>1</td>\n",
       "      <td>12:23 AM</td>\n",
       "      <td>61</td>\n",
       "      <td>59</td>\n",
       "      <td>94</td>\n",
       "      <td>20</td>\n",
       "      <td>31</td>\n",
       "      <td>29.77</td>\n",
       "      <td>0.0</td>\n",
       "      <td>SSE</td>\n",
       "      <td>Light Rain Shower</td>\n",
       "      <td>2021-12-1</td>\n",
       "    </tr>\n",
       "    <tr>\n",
       "      <th>2</th>\n",
       "      <td>2</td>\n",
       "      <td>12:30 AM</td>\n",
       "      <td>63</td>\n",
       "      <td>59</td>\n",
       "      <td>88</td>\n",
       "      <td>24</td>\n",
       "      <td>0</td>\n",
       "      <td>29.77</td>\n",
       "      <td>0.0</td>\n",
       "      <td>S</td>\n",
       "      <td>Light Rain Shower / Windy</td>\n",
       "      <td>2021-12-1</td>\n",
       "    </tr>\n",
       "    <tr>\n",
       "      <th>3</th>\n",
       "      <td>3</td>\n",
       "      <td>12:34 AM</td>\n",
       "      <td>63</td>\n",
       "      <td>59</td>\n",
       "      <td>88</td>\n",
       "      <td>23</td>\n",
       "      <td>0</td>\n",
       "      <td>29.77</td>\n",
       "      <td>0.0</td>\n",
       "      <td>S</td>\n",
       "      <td>Heavy Rain Shower / Windy</td>\n",
       "      <td>2021-12-1</td>\n",
       "    </tr>\n",
       "    <tr>\n",
       "      <th>4</th>\n",
       "      <td>4</td>\n",
       "      <td>12:47 AM</td>\n",
       "      <td>63</td>\n",
       "      <td>59</td>\n",
       "      <td>88</td>\n",
       "      <td>22</td>\n",
       "      <td>0</td>\n",
       "      <td>29.74</td>\n",
       "      <td>0.0</td>\n",
       "      <td>S</td>\n",
       "      <td>Rain Shower / Windy</td>\n",
       "      <td>2021-12-1</td>\n",
       "    </tr>\n",
       "  </tbody>\n",
       "</table>\n",
       "</div>"
      ],
      "text/plain": [
       "   Unnamed: 0      Time  Temperature  Dew Point  Humidity  Wind Speed  \\\n",
       "0           0  12:00 AM           61         59        94          15   \n",
       "1           1  12:23 AM           61         59        94          20   \n",
       "2           2  12:30 AM           63         59        88          24   \n",
       "3           3  12:34 AM           63         59        88          23   \n",
       "4           4  12:47 AM           63         59        88          22   \n",
       "\n",
       "   Wind Gust  Pressure  Precipitation Wind                  Condition  \\\n",
       "0          0     29.77            0.0  SSE          Light Rain Shower   \n",
       "1         31     29.77            0.0  SSE          Light Rain Shower   \n",
       "2          0     29.77            0.0    S  Light Rain Shower / Windy   \n",
       "3          0     29.77            0.0    S  Heavy Rain Shower / Windy   \n",
       "4          0     29.74            0.0    S        Rain Shower / Windy   \n",
       "\n",
       "        Date  \n",
       "0  2021-12-1  \n",
       "1  2021-12-1  \n",
       "2  2021-12-1  \n",
       "3  2021-12-1  \n",
       "4  2021-12-1  "
      ]
     },
     "execution_count": 4,
     "metadata": {},
     "output_type": "execute_result"
    }
   ],
   "source": [
    "df.head()"
   ]
  },
  {
   "cell_type": "code",
   "execution_count": 11,
   "id": "c31fa11d",
   "metadata": {},
   "outputs": [
    {
     "data": {
      "text/plain": [
       "array(['SSE', 'S', 'SSW', 'WSW', 'SW', 'W', 'WNW', 'NNE', 'NE', 'N', 'NW',\n",
       "       'NNW', 'ENE', 'E', 'SE', 'ESE', 'VAR', 'CALM'], dtype=object)"
      ]
     },
     "execution_count": 11,
     "metadata": {},
     "output_type": "execute_result"
    }
   ],
   "source": [
    "df.Wind.unique()"
   ]
  },
  {
   "cell_type": "markdown",
   "id": "c7c9203d",
   "metadata": {},
   "source": [
    "Check for missing value"
   ]
  },
  {
   "cell_type": "code",
   "execution_count": 5,
   "id": "1a7a6680",
   "metadata": {},
   "outputs": [
    {
     "data": {
      "text/plain": [
       "Unnamed: 0       0\n",
       "Time             0\n",
       "Temperature      0\n",
       "Dew Point        0\n",
       "Humidity         0\n",
       "Wind Speed       0\n",
       "Wind Gust        0\n",
       "Pressure         0\n",
       "Precipitation    0\n",
       "Wind             0\n",
       "Condition        0\n",
       "Date             0\n",
       "dtype: int64"
      ]
     },
     "execution_count": 5,
     "metadata": {},
     "output_type": "execute_result"
    }
   ],
   "source": [
    "df.isnull().sum()"
   ]
  },
  {
   "cell_type": "code",
   "execution_count": 6,
   "id": "268e1f67",
   "metadata": {},
   "outputs": [
    {
     "data": {
      "text/plain": [
       "(1997, 12)"
      ]
     },
     "execution_count": 6,
     "metadata": {},
     "output_type": "execute_result"
    }
   ],
   "source": [
    "df.shape"
   ]
  },
  {
   "cell_type": "code",
   "execution_count": 7,
   "id": "2a1dcc76",
   "metadata": {},
   "outputs": [
    {
     "name": "stdout",
     "output_type": "stream",
     "text": [
      "<class 'pandas.core.frame.DataFrame'>\n",
      "RangeIndex: 1997 entries, 0 to 1996\n",
      "Data columns (total 12 columns):\n",
      " #   Column         Non-Null Count  Dtype  \n",
      "---  ------         --------------  -----  \n",
      " 0   Unnamed: 0     1997 non-null   int64  \n",
      " 1   Time           1997 non-null   object \n",
      " 2   Temperature    1997 non-null   int64  \n",
      " 3   Dew Point      1997 non-null   int64  \n",
      " 4   Humidity       1997 non-null   int64  \n",
      " 5   Wind Speed     1997 non-null   int64  \n",
      " 6   Wind Gust      1997 non-null   int64  \n",
      " 7   Pressure       1997 non-null   float64\n",
      " 8   Precipitation  1997 non-null   float64\n",
      " 9   Wind           1997 non-null   object \n",
      " 10  Condition      1997 non-null   object \n",
      " 11  Date           1997 non-null   object \n",
      "dtypes: float64(2), int64(6), object(4)\n",
      "memory usage: 187.3+ KB\n"
     ]
    }
   ],
   "source": [
    "df.info()"
   ]
  },
  {
   "cell_type": "markdown",
   "id": "f7b30dda",
   "metadata": {},
   "source": [
    "Clean data"
   ]
  },
  {
   "cell_type": "code",
   "execution_count": 3,
   "id": "cfa78b35",
   "metadata": {},
   "outputs": [
    {
     "data": {
      "text/plain": [
       "0      2021-12-01\n",
       "1      2021-12-01\n",
       "2      2021-12-01\n",
       "3      2021-12-01\n",
       "4      2021-12-01\n",
       "          ...    \n",
       "1992   2022-05-07\n",
       "1993   2022-05-07\n",
       "1994   2022-05-07\n",
       "1995   2022-05-07\n",
       "1996   2022-05-07\n",
       "Name: Date, Length: 1997, dtype: datetime64[ns]"
      ]
     },
     "execution_count": 3,
     "metadata": {},
     "output_type": "execute_result"
    }
   ],
   "source": [
    "pd.to_datetime(df['Date'])"
   ]
  },
  {
   "cell_type": "markdown",
   "id": "8f35d88d",
   "metadata": {},
   "source": [
    "Average values"
   ]
  },
  {
   "cell_type": "code",
   "execution_count": 9,
   "id": "1d301950",
   "metadata": {},
   "outputs": [
    {
     "name": "stdout",
     "output_type": "stream",
     "text": [
      "50.17726589884827\n",
      "28\n",
      "75\n"
     ]
    }
   ],
   "source": [
    "print(df['Temperature'].mean())\n",
    "print(df['Temperature'].min())\n",
    "print(df['Temperature'].max())"
   ]
  },
  {
   "cell_type": "code",
   "execution_count": 4,
   "id": "e042d714",
   "metadata": {},
   "outputs": [
    {
     "data": {
      "text/plain": [
       "Condition\n",
       "Fair                         858\n",
       "Mostly Cloudy                528\n",
       "Fair / Windy                 150\n",
       "Partly Cloudy                103\n",
       "Light Rain                    66\n",
       "Light Rain Shower             65\n",
       "Showers in the Vicinity       39\n",
       "Light Rain Shower / Windy     39\n",
       "Light Snow                    25\n",
       "Mostly Cloudy / Windy         24\n",
       "Cloudy                        19\n",
       "Light Rain / Windy            19\n",
       "Heavy Rain Shower / Windy     12\n",
       "Rain Shower / Windy            9\n",
       "Rain Shower                    8\n",
       "Partly Cloudy / Windy          8\n",
       "Rain                           5\n",
       "Heavy Rain Shower              5\n",
       "Rain / Windy                   5\n",
       "T-Storm                        3\n",
       "Heavy T-Storm                  2\n",
       "Wintry Mix                     2\n",
       "Light Rain with Thunder        2\n",
       "T-Storm / Windy                1\n",
       "Name: count, dtype: int64"
      ]
     },
     "execution_count": 4,
     "metadata": {},
     "output_type": "execute_result"
    }
   ],
   "source": [
    "df['Condition'].value_counts()"
   ]
  },
  {
   "cell_type": "markdown",
   "id": "4f84d5f8",
   "metadata": {},
   "source": [
    "Visualize data with matplotlib"
   ]
  },
  {
   "cell_type": "code",
   "execution_count": 11,
   "id": "25edcdb6",
   "metadata": {},
   "outputs": [],
   "source": [
    "monthly_temp = df.groupby(pd.PeriodIndex(df['Date'], freq=\"M\"))['Temperature'].mean().reset_index()"
   ]
  },
  {
   "cell_type": "code",
   "execution_count": 12,
   "id": "d8061421",
   "metadata": {},
   "outputs": [],
   "source": [
    "months = ['December','Janurary','February',\n",
    "         'March','April','May']"
   ]
  },
  {
   "cell_type": "code",
   "execution_count": 13,
   "id": "49867af8",
   "metadata": {},
   "outputs": [
    {
     "data": {
      "image/png": "[encoded data removed]",
      "text/plain": [
       "<Figure size 2160x720 with 1 Axes>"
      ]
     },
     "metadata": {
      "needs_background": "light"
     },
     "output_type": "display_data"
    }
   ],
   "source": [
    "fig, ax=plt.subplots(1, 1, figsize=(30, 10))\n",
    "ax.plot( months,  monthly_temp['Temperature'])\n",
    "fmt_month = mdates.MonthLocator()\n",
    "ax.xaxis.set_minor_locator(fmt_month)\n",
    "# '%b' to get the names of the month\n",
    "ax.xaxis.set_minor_formatter(mdates.DateFormatter('%b'))\n",
    "ax.tick_params(labelsize=20, which='both')\n"
   ]
  },
  {
   "cell_type": "code",
   "execution_count": 14,
   "id": "6c136247",
   "metadata": {},
   "outputs": [],
   "source": [
    "temp=df.groupby('Temperature')['Condition'].value_counts().sort_values(ascending=[False]).head(10)"
   ]
  },
  {
   "cell_type": "code",
   "execution_count": 15,
   "id": "45dc971d",
   "metadata": {},
   "outputs": [
    {
     "data": {
      "text/plain": [
       "<AxesSubplot:xlabel='Temperature,Condition'>"
      ]
     },
     "execution_count": 15,
     "metadata": {},
     "output_type": "execute_result"
    },
    {
     "data": {
      "image/png": "[encoded data removed]",
      "text/plain": [
       "<Figure size 432x288 with 1 Axes>"
      ]
     },
     "metadata": {
      "needs_background": "light"
     },
     "output_type": "display_data"
    }
   ],
   "source": [
    "temp.sort_values(ascending=[True]).plot.bar()"
   ]
  },
  {
   "cell_type": "code",
   "execution_count": 6,
   "id": "23bf76ce",
   "metadata": {},
   "outputs": [],
   "source": [
    "rain_df = df[(df['Condition'] == 'Light Rain') | (df['Condition'] == 'Light Rain Shower / Windy')\n",
    "        |(df['Condition'] == 'Rain')\n",
    "        | (df['Condition'] == 'Light Rain Shower')\n",
    "        |(df['Condition'] == 'Heavy Rain Shower / Windy')]   "
   ]
  },
  {
   "cell_type": "code",
   "execution_count": 17,
   "id": "39589abd",
   "metadata": {},
   "outputs": [
    {
     "data": {
      "text/plain": [
       "Light Rain                   66\n",
       "Light Rain Shower            65\n",
       "Light Rain Shower / Windy    39\n",
       "Heavy Rain Shower / Windy    12\n",
       "Rain                          5\n",
       "Name: Condition, dtype: int64"
      ]
     },
     "execution_count": 17,
     "metadata": {},
     "output_type": "execute_result"
    }
   ],
   "source": [
    "rain_df['Condition'].value_counts()"
   ]
  },
  {
   "cell_type": "code",
   "execution_count": 18,
   "id": "28f7e3e1",
   "metadata": {},
   "outputs": [
    {
     "data": {
      "text/plain": [
       "53.17112299465241"
      ]
     },
     "execution_count": 18,
     "metadata": {},
     "output_type": "execute_result"
    }
   ],
   "source": [
    "rain_df['Temperature'].mean()"
   ]
  },
  {
   "cell_type": "code",
   "execution_count": 19,
   "id": "5d7bf8c4",
   "metadata": {},
   "outputs": [
    {
     "data": {
      "text/plain": [
       "16.43850267379679"
      ]
     },
     "execution_count": 19,
     "metadata": {},
     "output_type": "execute_result"
    }
   ],
   "source": [
    "rain_df['Wind Speed'].mean()"
   ]
  },
  {
   "cell_type": "markdown",
   "id": "ac968934",
   "metadata": {},
   "source": [
    "drew points tells us quanity of moisture in air"
   ]
  },
  {
   "cell_type": "code",
   "execution_count": 20,
   "id": "486f6a8f",
   "metadata": {},
   "outputs": [
    {
     "data": {
      "text/plain": [
       "49.07486631016043"
      ]
     },
     "execution_count": 20,
     "metadata": {},
     "output_type": "execute_result"
    }
   ],
   "source": [
    "rain_df['Dew Point'].mean()"
   ]
  },
  {
   "cell_type": "code",
   "execution_count": 21,
   "id": "c11c5784",
   "metadata": {},
   "outputs": [
    {
     "data": {
      "text/plain": [
       "2.3957219251336896"
      ]
     },
     "execution_count": 21,
     "metadata": {},
     "output_type": "execute_result"
    }
   ],
   "source": [
    "rain_df['Wind Gust'].mean()"
   ]
  },
  {
   "cell_type": "code",
   "execution_count": 22,
   "id": "26b80c26",
   "metadata": {},
   "outputs": [
    {
     "data": {
      "text/plain": [
       "30.022780748663102"
      ]
     },
     "execution_count": 22,
     "metadata": {},
     "output_type": "execute_result"
    }
   ],
   "source": [
    "rain_df['Pressure'].mean()"
   ]
  },
  {
   "cell_type": "code",
   "execution_count": 23,
   "id": "88e3e1b3",
   "metadata": {},
   "outputs": [
    {
     "data": {
      "text/plain": [
       "NNW    55\n",
       "N      47\n",
       "S      23\n",
       "NE     18\n",
       "NNE     9\n",
       "SSW     6\n",
       "NW      6\n",
       "ENE     4\n",
       "SSE     4\n",
       "W       4\n",
       "E       3\n",
       "SE      3\n",
       "SW      2\n",
       "ESE     1\n",
       "VAR     1\n",
       "WSW     1\n",
       "Name: Wind, dtype: int64"
      ]
     },
     "execution_count": 23,
     "metadata": {},
     "output_type": "execute_result"
    }
   ],
   "source": [
    "rain_df['Wind'].value_counts()"
   ]
  },
  {
   "cell_type": "code",
   "execution_count": 24,
   "id": "34df4bef",
   "metadata": {},
   "outputs": [],
   "source": [
    "monthly_humidity = df.groupby(pd.PeriodIndex(df['Date'], freq=\"M\"))['Humidity'].mean().reset_index()"
   ]
  },
  {
   "cell_type": "code",
   "execution_count": 25,
   "id": "fb55f4fa",
   "metadata": {},
   "outputs": [],
   "source": [
    "monthly_dew_point = df.groupby(pd.PeriodIndex(df['Date'], freq=\"M\"))['Dew Point'].mean().reset_index()"
   ]
  },
  {
   "cell_type": "markdown",
   "id": "ad00c977",
   "metadata": {},
   "source": [
    "Correlation between humanity and dew point"
   ]
  },
  {
   "cell_type": "code",
   "execution_count": 26,
   "id": "62eaa360",
   "metadata": {},
   "outputs": [
    {
     "data": {
      "text/plain": [
       "[<matplotlib.lines.Line2D at 0x23876698f40>]"
      ]
     },
     "execution_count": 26,
     "metadata": {},
     "output_type": "execute_result"
    },
    {
     "data": {
      "image/png": "[encoded data removed]",
      "text/plain": [
       "<Figure size 2160x720 with 2 Axes>"
      ]
     },
     "metadata": {
      "needs_background": "light"
     },
     "output_type": "display_data"
    }
   ],
   "source": [
    "fig, ax=plt.subplots(2, figsize=(30, 10))\n",
    "ax[0].plot( months,  monthly_humidity['Humidity'])\n",
    "ax[1].plot( months,  monthly_dew_point['Dew Point'])"
   ]
  },
  {
   "cell_type": "markdown",
   "id": "7baecfac",
   "metadata": {},
   "source": [
    "weather condition in warmest and coldest day"
   ]
  },
  {
   "cell_type": "code",
   "execution_count": 27,
   "id": "d3d51d44",
   "metadata": {},
   "outputs": [
    {
     "name": "stdout",
     "output_type": "stream",
     "text": [
      "2022-5-5\n",
      "2022-1-7\n"
     ]
    }
   ],
   "source": [
    "print(df.loc[df['Temperature'].idxmax()]['Date'])\n",
    "print(df.loc[df['Temperature'].idxmin()]['Date'])"
   ]
  },
  {
   "cell_type": "code",
   "execution_count": 28,
   "id": "eab94b3f",
   "metadata": {},
   "outputs": [],
   "source": [
    "warmest_day = df.loc[df['Date'] == '2022-5-5']\n",
    "coldest_day = df.loc[df['Date'] == '2022-1-7']"
   ]
  },
  {
   "cell_type": "code",
   "execution_count": 29,
   "id": "219c5797",
   "metadata": {},
   "outputs": [
    {
     "name": "stderr",
     "output_type": "stream",
     "text": [
      "C:\\Users\\15623\\AppData\\Local\\Temp\\ipykernel_9964\\694576820.py:2: SettingWithCopyWarning: \n",
      "A value is trying to be set on a copy of a slice from a DataFrame.\n",
      "Try using .loc[row_indexer,col_indexer] = value instead\n",
      "\n",
      "See the caveats in the documentation: https://pandas.pydata.org/pandas-docs/stable/user_guide/indexing.html#returning-a-view-versus-a-copy\n",
      "  warmest_day['Time'] = pd.to_datetime(warmest_day['Time'])\n"
     ]
    },
    {
     "data": {
      "image/png": "[encoded data removed]",
      "text/plain": [
       "<Figure size 432x288 with 1 Axes>"
      ]
     },
     "metadata": {
      "needs_background": "light"
     },
     "output_type": "display_data"
    }
   ],
   "source": [
    "fig, ax = plt.subplots(1,1)\n",
    "warmest_day['Time'] = pd.to_datetime(warmest_day['Time'])\n",
    "ax.plot(warmest_day['Time'],warmest_day['Temperature'])\n",
    "locator = mdates.HourLocator(byhour=[0,6,12,18])\n",
    "ax.xaxis.set_major_locator(locator)\n",
    "formatter = mdates.DateFormatter('%H:%M:%S')\n",
    "ax.xaxis.set_major_formatter(formatter)\n",
    "fig.autofmt_xdate()"
   ]
  },
  {
   "cell_type": "code",
   "execution_count": 30,
   "id": "ec9579e1",
   "metadata": {},
   "outputs": [
    {
     "name": "stderr",
     "output_type": "stream",
     "text": [
      "C:\\Users\\15623\\AppData\\Local\\Programs\\Python\\Python39\\lib\\site-packages\\pandas\\core\\frame.py:4308: SettingWithCopyWarning: \n",
      "A value is trying to be set on a copy of a slice from a DataFrame\n",
      "\n",
      "See the caveats in the documentation: https://pandas.pydata.org/pandas-docs/stable/user_guide/indexing.html#returning-a-view-versus-a-copy\n",
      "  return super().drop(\n"
     ]
    }
   ],
   "source": [
    "coldest_day.drop(coldest_day.tail(1).index,inplace=True)"
   ]
  },
  {
   "cell_type": "code",
   "execution_count": 31,
   "id": "f1019072",
   "metadata": {},
   "outputs": [
    {
     "name": "stderr",
     "output_type": "stream",
     "text": [
      "C:\\Users\\15623\\AppData\\Local\\Temp\\ipykernel_9964\\51698559.py:2: SettingWithCopyWarning: \n",
      "A value is trying to be set on a copy of a slice from a DataFrame.\n",
      "Try using .loc[row_indexer,col_indexer] = value instead\n",
      "\n",
      "See the caveats in the documentation: https://pandas.pydata.org/pandas-docs/stable/user_guide/indexing.html#returning-a-view-versus-a-copy\n",
      "  coldest_day['Time'] = pd.to_datetime(coldest_day['Time'])\n"
     ]
    },
    {
     "data": {
      "image/png": "[encoded data removed]",
      "text/plain": [
       "<Figure size 432x288 with 1 Axes>"
      ]
     },
     "metadata": {
      "needs_background": "light"
     },
     "output_type": "display_data"
    }
   ],
   "source": [
    "fig, ax = plt.subplots(1,1)\n",
    "coldest_day['Time'] = pd.to_datetime(coldest_day['Time'])\n",
    "ax.plot(coldest_day['Time'],coldest_day['Temperature'])\n",
    "locator = mdates.HourLocator(byhour=[0,6,12,18])\n",
    "ax.xaxis.set_major_locator(locator)\n",
    "formatter = mdates.DateFormatter('%H:%M:%S')\n",
    "ax.xaxis.set_major_formatter(formatter)\n",
    "fig.autofmt_xdate()"
   ]
  },
  {
   "cell_type": "markdown",
   "id": "a5a95282",
   "metadata": {},
   "source": [
    "clean data so x and y fit"
   ]
  },
  {
   "cell_type": "markdown",
   "id": "d1df995d",
   "metadata": {},
   "source": [
    "Change my mind and remove wind as it would be to complicated to work with"
   ]
  },
  {
   "cell_type": "markdown",
   "id": "1f19b8d2",
   "metadata": {},
   "source": [
    "Clean values so there easier to categorize"
   ]
  },
  {
   "cell_type": "code",
   "execution_count": 4,
   "id": "e71724c0",
   "metadata": {},
   "outputs": [],
   "source": [
    "df['Condition'] = df['Condition'].replace(['Light Rain','Light Rain Shower','Light Rain Shower / Windy',\n",
    "                                           'Light Rain / Windy'],'Light Rain')"
   ]
  },
  {
   "cell_type": "code",
   "execution_count": 18,
   "id": "c0605b8a",
   "metadata": {},
   "outputs": [],
   "source": [
    "df['Condition'] =df['Condition'].replace(['Heavy Rain Shower / Windy','Rain Shower','Rain','Heavy Rain Shower','Rain Shower / Wind',\n",
    "                                          'Rain / Windy','Rain Shower / Windy',\n",
    "                                          'Showers in the Vicinity','Rain Shower / Windy'],'Rain')"
   ]
  },
  {
   "cell_type": "code",
   "execution_count": 21,
   "id": "2ea073d5",
   "metadata": {},
   "outputs": [],
   "source": [
    "df['Condition'] =df['Condition'].replace(['Mostly Cloudy','Partly Cloudy','Cloudy ',\n",
    "                                          'Mostly Cloudy / Windy','Partly Cloudy / Windy'],'Cloudy')"
   ]
  },
  {
   "cell_type": "code",
   "execution_count": 7,
   "id": "e4c772bb",
   "metadata": {},
   "outputs": [],
   "source": [
    "df['Condition'] =df['Condition'].replace(['T-Storm','Heavy T-Storm','Wintry Mix',\n",
    "                                          'Light Rain with Thunder',\n",
    "                                          'T-Storm / Windy'],'Storm')"
   ]
  },
  {
   "cell_type": "code",
   "execution_count": 22,
   "id": "04706b73",
   "metadata": {},
   "outputs": [
    {
     "data": {
      "text/plain": [
       "Condition\n",
       "Fair            858\n",
       "Cloudy          682\n",
       "Light Rain      189\n",
       "Fair / Windy    150\n",
       "Rain             83\n",
       "Light Snow       25\n",
       "Storm            10\n",
       "Name: count, dtype: int64"
      ]
     },
     "execution_count": 22,
     "metadata": {},
     "output_type": "execute_result"
    }
   ],
   "source": [
    "df['Condition'].value_counts()"
   ]
  },
  {
   "cell_type": "code",
   "execution_count": 23,
   "id": "0f6b9b81",
   "metadata": {},
   "outputs": [],
   "source": [
    "from sklearn.model_selection import train_test_split"
   ]
  },
  {
   "cell_type": "code",
   "execution_count": 24,
   "id": "ccb7f1e6",
   "metadata": {},
   "outputs": [],
   "source": [
    "from sklearn import preprocessing"
   ]
  },
  {
   "cell_type": "code",
   "execution_count": 25,
   "id": "b7d94d7a",
   "metadata": {},
   "outputs": [],
   "source": [
    "x = df.drop([\"Condition\",\"Time\",\"Date\",\"Unnamed: 0\",\"Wind\"], axis=1)\n",
    "y=df[\"Condition\"].values"
   ]
  },
  {
   "cell_type": "code",
   "execution_count": 26,
   "id": "b46e0876",
   "metadata": {},
   "outputs": [],
   "source": [
    "x_train,x_test,y_train,y_test=train_test_split(x,y,test_size=0.2,random_state=1)"
   ]
  },
  {
   "cell_type": "code",
   "execution_count": 27,
   "id": "42fd35af",
   "metadata": {},
   "outputs": [
    {
     "data": {
      "text/html": [
       "<div>\n",
       "<style scoped>\n",
       "    .dataframe tbody tr th:only-of-type {\n",
       "        vertical-align: middle;\n",
       "    }\n",
       "\n",
       "    .dataframe tbody tr th {\n",
       "        vertical-align: top;\n",
       "    }\n",
       "\n",
       "    .dataframe thead th {\n",
       "        text-align: right;\n",
       "    }\n",
       "</style>\n",
       "<table border=\"1\" class=\"dataframe\">\n",
       "  <thead>\n",
       "    <tr style=\"text-align: right;\">\n",
       "      <th></th>\n",
       "      <th>Temperature</th>\n",
       "      <th>Dew Point</th>\n",
       "      <th>Humidity</th>\n",
       "      <th>Wind Speed</th>\n",
       "      <th>Wind Gust</th>\n",
       "      <th>Pressure</th>\n",
       "      <th>Precipitation</th>\n",
       "    </tr>\n",
       "  </thead>\n",
       "  <tbody>\n",
       "    <tr>\n",
       "      <th>0</th>\n",
       "      <td>61</td>\n",
       "      <td>59</td>\n",
       "      <td>94</td>\n",
       "      <td>15</td>\n",
       "      <td>0</td>\n",
       "      <td>29.77</td>\n",
       "      <td>0.0</td>\n",
       "    </tr>\n",
       "    <tr>\n",
       "      <th>1</th>\n",
       "      <td>61</td>\n",
       "      <td>59</td>\n",
       "      <td>94</td>\n",
       "      <td>20</td>\n",
       "      <td>31</td>\n",
       "      <td>29.77</td>\n",
       "      <td>0.0</td>\n",
       "    </tr>\n",
       "    <tr>\n",
       "      <th>2</th>\n",
       "      <td>63</td>\n",
       "      <td>59</td>\n",
       "      <td>88</td>\n",
       "      <td>24</td>\n",
       "      <td>0</td>\n",
       "      <td>29.77</td>\n",
       "      <td>0.0</td>\n",
       "    </tr>\n",
       "    <tr>\n",
       "      <th>3</th>\n",
       "      <td>63</td>\n",
       "      <td>59</td>\n",
       "      <td>88</td>\n",
       "      <td>23</td>\n",
       "      <td>0</td>\n",
       "      <td>29.77</td>\n",
       "      <td>0.0</td>\n",
       "    </tr>\n",
       "    <tr>\n",
       "      <th>4</th>\n",
       "      <td>63</td>\n",
       "      <td>59</td>\n",
       "      <td>88</td>\n",
       "      <td>22</td>\n",
       "      <td>0</td>\n",
       "      <td>29.74</td>\n",
       "      <td>0.0</td>\n",
       "    </tr>\n",
       "  </tbody>\n",
       "</table>\n",
       "</div>"
      ],
      "text/plain": [
       "   Temperature  Dew Point  Humidity  Wind Speed  Wind Gust  Pressure  \\\n",
       "0           61         59        94          15          0     29.77   \n",
       "1           61         59        94          20         31     29.77   \n",
       "2           63         59        88          24          0     29.77   \n",
       "3           63         59        88          23          0     29.77   \n",
       "4           63         59        88          22          0     29.74   \n",
       "\n",
       "   Precipitation  \n",
       "0            0.0  \n",
       "1            0.0  \n",
       "2            0.0  \n",
       "3            0.0  \n",
       "4            0.0  "
      ]
     },
     "execution_count": 27,
     "metadata": {},
     "output_type": "execute_result"
    }
   ],
   "source": [
    "x.head()"
   ]
  },
  {
   "cell_type": "markdown",
   "id": "61ed7af9",
   "metadata": {},
   "source": [
    "Testing different ml types to choose the best on from predicting"
   ]
  },
  {
   "cell_type": "code",
   "execution_count": 28,
   "id": "24d23471",
   "metadata": {},
   "outputs": [],
   "source": [
    "from sklearn.neighbors import KNeighborsClassifier"
   ]
  },
  {
   "cell_type": "code",
   "execution_count": 29,
   "id": "410bb0de",
   "metadata": {},
   "outputs": [
    {
     "name": "stdout",
     "output_type": "stream",
     "text": [
      "KNN Accuracy:65.75%\n"
     ]
    }
   ],
   "source": [
    "knn=KNeighborsClassifier()\n",
    "knn.fit(x_train,y_train)\n",
    "print(\"KNN Accuracy:{:.2f}%\".format(knn.score(x_test,y_test)*100))"
   ]
  },
  {
   "cell_type": "markdown",
   "id": "4bf5a25f",
   "metadata": {},
   "source": [
    "RandomForest preformed the best"
   ]
  },
  {
   "cell_type": "code",
   "execution_count": 30,
   "id": "c4ea6beb",
   "metadata": {},
   "outputs": [],
   "source": [
    "from sklearn.ensemble import RandomForestClassifier"
   ]
  },
  {
   "cell_type": "code",
   "execution_count": 31,
   "id": "eeb95b09",
   "metadata": {},
   "outputs": [
    {
     "name": "stdout",
     "output_type": "stream",
     "text": [
      "KNN Accuracy:76.75%\n"
     ]
    }
   ],
   "source": [
    "rfc=RandomForestClassifier(n_estimators=200)\n",
    "rfc.fit(x_train,y_train)\n",
    "pred_rfc=rfc.predict(x_test)\n",
    "print(\"KNN Accuracy:{:.2f}%\".format(rfc.score(x_test,y_test)*100))"
   ]
  },
  {
   "cell_type": "code",
   "execution_count": 32,
   "id": "2bc0e046",
   "metadata": {},
   "outputs": [],
   "source": [
    "from sklearn.svm import SVC"
   ]
  },
  {
   "cell_type": "code",
   "execution_count": 33,
   "id": "d1443c74",
   "metadata": {},
   "outputs": [
    {
     "name": "stdout",
     "output_type": "stream",
     "text": [
      "KNN Accuracy:61.25%\n"
     ]
    }
   ],
   "source": [
    "clf=SVC()\n",
    "clf.fit(x_train,y_train)\n",
    "pred_clf=clf.predict(x_test)\n",
    "print(\"KNN Accuracy:{:.2f}%\".format(clf.score(x_test,y_test)*100))"
   ]
  },
  {
   "cell_type": "code",
   "execution_count": 34,
   "id": "7eff9802",
   "metadata": {},
   "outputs": [],
   "source": [
    "from sklearn.neural_network import MLPClassifier"
   ]
  },
  {
   "cell_type": "code",
   "execution_count": 35,
   "id": "7d640af2",
   "metadata": {},
   "outputs": [
    {
     "name": "stdout",
     "output_type": "stream",
     "text": [
      "KNN Accuracy:59.50%\n"
     ]
    }
   ],
   "source": [
    "mlpc=MLPClassifier(hidden_layer_sizes=(11,11,11),max_iter=500)\n",
    "mlpc.fit(x_train,y_train)\n",
    "pred_mlpc=mlpc.predict(x_test)\n",
    "print(\"KNN Accuracy:{:.2f}%\".format(mlpc.score(x_test,y_test)*100))"
   ]
  },
  {
   "cell_type": "code",
   "execution_count": 36,
   "id": "c0950b39",
   "metadata": {},
   "outputs": [],
   "source": [
    "from sklearn.naive_bayes import GaussianNB"
   ]
  },
  {
   "cell_type": "code",
   "execution_count": 37,
   "id": "4dfaae62",
   "metadata": {},
   "outputs": [
    {
     "name": "stdout",
     "output_type": "stream",
     "text": [
      "KNN Accuracy:60.50%\n"
     ]
    }
   ],
   "source": [
    "gnb = GaussianNB()\n",
    "gnb.fit(x_train,y_train)\n",
    "pred_gnb=gnb.predict(x_test)\n",
    "print(\"KNN Accuracy:{:.2f}%\".format(gnb.score(x_test,y_test)*100))"
   ]
  },
  {
   "cell_type": "code",
   "execution_count": null,
   "id": "97e314c0",
   "metadata": {},
   "outputs": [],
   "source": [
    "print(classification_report(y_test,pred_rfc))\n",
    "print(confusion_matrix(y_test,pred_rfc))"
   ]
  },
  {
   "cell_type": "code",
   "execution_count": 61,
   "id": "71baa34c",
   "metadata": {},
   "outputs": [],
   "source": [
    "def predict_weather():    \n",
    "    temperature = input(\"enter temperature: \")\n",
    "    Dew_Point = input(\"enter Dew Point:\")\n",
    "    Humidity = input(\"enter Humidity:\")\n",
    "    Wind_Speed = input(\"enter Wind Speed: \")\n",
    "    Wind_Gust = input(\"enter Wind_Gust: \")\n",
    "    Pressure = input(\"enter Pressure:\")\n",
    "    Precipitation = input(\"enter Precipitation: \")\n",
    "    Wind = input(\"enter Wind:\")\n",
    "    weather = [[temperature, Dew_Point,Humidity,Wind_Speed,Wind_Gust,Pressure,Precipitation,Wind]]    \n",
    "    output = rfc.predict(weather)\n",
    "    print(output)"
   ]
  },
  {
   "cell_type": "code",
   "execution_count": 62,
   "id": "691df7b1",
   "metadata": {},
   "outputs": [
    {
     "name": "stdout",
     "output_type": "stream",
     "text": [
      "enter temperature: 78\n",
      "enter Dew Point:23\n",
      "enter Humidity:27\n",
      "enter Wind Speed: 6\n",
      "enter Wind_Gust: 7\n",
      "enter Pressure:8\n",
      "enter Precipitation: 34\n",
      "enter Wind:5\n",
      "['Fair']\n"
     ]
    },
    {
     "name": "stderr",
     "output_type": "stream",
     "text": [
      "C:\\Users\\15623\\AppData\\Local\\Programs\\Python\\Python39\\lib\\site-packages\\sklearn\\base.py:450: UserWarning: X does not have valid feature names, but RandomForestClassifier was fitted with feature names\n",
      "  warnings.warn(\n"
     ]
    }
   ],
   "source": [
    "predict_weather()"
   ]
  },
  {
   "cell_type": "markdown",
   "id": "faab3661",
   "metadata": {},
   "source": [
    "Save model to use for dashboard"
   ]
  },
  {
   "cell_type": "code",
   "execution_count": 28,
   "id": "b265922f",
   "metadata": {},
   "outputs": [],
   "source": [
    "import pickle\n",
    "\n",
    "model = rfc.fit(x_train,y_train)\n",
    "\n",
    "with open(\"model_pickle\",\"wb\") as f:\n",
    "    pickle.dump(model,f)"
   ]
  }
 ],
 "metadata": {
  "kernelspec": {
   "display_name": "Python 3 (ipykernel)",
   "language": "python",
   "name": "python3"
  },
  "language_info": {
   "codemirror_mode": {
    "name": "ipython",
    "version": 3
   },
   "file_extension": ".py",
   "mimetype": "text/x-python",
   "name": "python",
   "nbconvert_exporter": "python",
   "pygments_lexer": "ipython3",
   "version": "3.11.4"
  }
 },
 "nbformat": 4,
 "nbformat_minor": 5
}
