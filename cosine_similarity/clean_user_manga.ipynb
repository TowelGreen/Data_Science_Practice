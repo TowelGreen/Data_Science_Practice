{
 "cells": [
  {
   "cell_type": "markdown",
   "id": "b253e2b1",
   "metadata": {},
   "source": [
    "# import pandas"
   ]
  },
  {
   "cell_type": "code",
   "execution_count": 1,
   "id": "2eef8492",
   "metadata": {},
   "outputs": [],
   "source": [
    "import pandas as pd"
   ]
  },
  {
   "cell_type": "code",
   "execution_count": 16,
   "id": "87983b3a",
   "metadata": {},
   "outputs": [],
   "source": [
    "df=pd.read_csv('users_manga.csv')"
   ]
  },
  {
   "cell_type": "markdown",
   "id": "62b0a421",
   "metadata": {},
   "source": [
    "# fix index"
   ]
  },
  {
   "cell_type": "code",
   "execution_count": 18,
   "id": "5515abd4",
   "metadata": {},
   "outputs": [],
   "source": [
    "df.columns=['Username','manga_id','rating']"
   ]
  },
  {
   "cell_type": "markdown",
   "id": "4fb349a0",
   "metadata": {},
   "source": [
    "# clean data"
   ]
  },
  {
   "cell_type": "code",
   "execution_count": 19,
   "id": "8d62b509",
   "metadata": {
    "scrolled": false
   },
   "outputs": [],
   "source": [
    "df['Username'] = df['Username'].str.replace(\"'\", \"\")"
   ]
  },
  {
   "cell_type": "code",
   "execution_count": 51,
   "id": "8d385772",
   "metadata": {},
   "outputs": [
    {
     "name": "stderr",
     "output_type": "stream",
     "text": [
      "C:\\Users\\15623\\AppData\\Local\\Temp\\ipykernel_10080\\678018875.py:1: FutureWarning: The default value of regex will change from True to False in a future version. In addition, single character regular expressions will*not* be treated as literal strings when regex=True.\n",
      "  df['Username'] = df['Username'].str.replace('[' ,\"\")\n",
      "C:\\Users\\15623\\AppData\\Local\\Temp\\ipykernel_10080\\678018875.py:2: FutureWarning: The default value of regex will change from True to False in a future version. In addition, single character regular expressions will*not* be treated as literal strings when regex=True.\n",
      "  df['rating'] = df['rating'].str.replace(']' ,\"\")\n"
     ]
    }
   ],
   "source": [
    "df['Username'] = df['Username'].str.replace('[' ,\"\")\n",
    "df['rating'] = df['rating'].str.replace(']' ,\"\")"
   ]
  },
  {
   "cell_type": "code",
   "execution_count": 53,
   "id": "d084eae2",
   "metadata": {},
   "outputs": [
    {
     "data": {
      "text/html": [
       "<div>\n",
       "<style scoped>\n",
       "    .dataframe tbody tr th:only-of-type {\n",
       "        vertical-align: middle;\n",
       "    }\n",
       "\n",
       "    .dataframe tbody tr th {\n",
       "        vertical-align: top;\n",
       "    }\n",
       "\n",
       "    .dataframe thead th {\n",
       "        text-align: right;\n",
       "    }\n",
       "</style>\n",
       "<table border=\"1\" class=\"dataframe\">\n",
       "  <thead>\n",
       "    <tr style=\"text-align: right;\">\n",
       "      <th></th>\n",
       "      <th>Username</th>\n",
       "      <th>manga_id</th>\n",
       "      <th>rating</th>\n",
       "    </tr>\n",
       "  </thead>\n",
       "  <tbody>\n",
       "    <tr>\n",
       "      <th>0</th>\n",
       "      <td>904jed</td>\n",
       "      <td>2</td>\n",
       "      <td>8</td>\n",
       "    </tr>\n",
       "    <tr>\n",
       "      <th>1</th>\n",
       "      <td>904jed</td>\n",
       "      <td>75989</td>\n",
       "      <td>8</td>\n",
       "    </tr>\n",
       "    <tr>\n",
       "      <th>2</th>\n",
       "      <td>904jed</td>\n",
       "      <td>95210</td>\n",
       "      <td>10</td>\n",
       "    </tr>\n",
       "    <tr>\n",
       "      <th>3</th>\n",
       "      <td>904jed</td>\n",
       "      <td>4608</td>\n",
       "      <td>0</td>\n",
       "    </tr>\n",
       "    <tr>\n",
       "      <th>4</th>\n",
       "      <td>904jed</td>\n",
       "      <td>1528</td>\n",
       "      <td>10</td>\n",
       "    </tr>\n",
       "  </tbody>\n",
       "</table>\n",
       "</div>"
      ],
      "text/plain": [
       "  Username  manga_id rating\n",
       "0   904jed         2      8\n",
       "1   904jed     75989      8\n",
       "2   904jed     95210     10\n",
       "3   904jed      4608      0\n",
       "4   904jed      1528     10"
      ]
     },
     "execution_count": 53,
     "metadata": {},
     "output_type": "execute_result"
    }
   ],
   "source": [
    "df.head()"
   ]
  },
  {
   "cell_type": "code",
   "execution_count": 54,
   "id": "a5a474e0",
   "metadata": {},
   "outputs": [
    {
     "data": {
      "text/plain": [
       "False"
      ]
     },
     "execution_count": 54,
     "metadata": {},
     "output_type": "execute_result"
    }
   ],
   "source": [
    "isinstance(df['rating'], float )"
   ]
  },
  {
   "cell_type": "markdown",
   "id": "be234dd0",
   "metadata": {},
   "source": [
    "# convert string to numeric"
   ]
  },
  {
   "cell_type": "code",
   "execution_count": 55,
   "id": "68aa72d8",
   "metadata": {},
   "outputs": [],
   "source": [
    "df['rating']=pd.to_numeric(df['rating'])"
   ]
  },
  {
   "cell_type": "code",
   "execution_count": 56,
   "id": "1ba6312f",
   "metadata": {},
   "outputs": [],
   "source": [
    "df['manga_id']=pd.to_numeric(df['manga_id'])"
   ]
  },
  {
   "cell_type": "code",
   "execution_count": 57,
   "id": "1cc89111",
   "metadata": {},
   "outputs": [
    {
     "data": {
      "text/html": [
       "<div>\n",
       "<style scoped>\n",
       "    .dataframe tbody tr th:only-of-type {\n",
       "        vertical-align: middle;\n",
       "    }\n",
       "\n",
       "    .dataframe tbody tr th {\n",
       "        vertical-align: top;\n",
       "    }\n",
       "\n",
       "    .dataframe thead th {\n",
       "        text-align: right;\n",
       "    }\n",
       "</style>\n",
       "<table border=\"1\" class=\"dataframe\">\n",
       "  <thead>\n",
       "    <tr style=\"text-align: right;\">\n",
       "      <th></th>\n",
       "      <th>Username</th>\n",
       "      <th>manga_id</th>\n",
       "      <th>rating</th>\n",
       "    </tr>\n",
       "  </thead>\n",
       "  <tbody>\n",
       "    <tr>\n",
       "      <th>0</th>\n",
       "      <td>904jed</td>\n",
       "      <td>2</td>\n",
       "      <td>8</td>\n",
       "    </tr>\n",
       "    <tr>\n",
       "      <th>1</th>\n",
       "      <td>904jed</td>\n",
       "      <td>75989</td>\n",
       "      <td>8</td>\n",
       "    </tr>\n",
       "    <tr>\n",
       "      <th>2</th>\n",
       "      <td>904jed</td>\n",
       "      <td>95210</td>\n",
       "      <td>10</td>\n",
       "    </tr>\n",
       "    <tr>\n",
       "      <th>3</th>\n",
       "      <td>904jed</td>\n",
       "      <td>4608</td>\n",
       "      <td>0</td>\n",
       "    </tr>\n",
       "    <tr>\n",
       "      <th>4</th>\n",
       "      <td>904jed</td>\n",
       "      <td>1528</td>\n",
       "      <td>10</td>\n",
       "    </tr>\n",
       "  </tbody>\n",
       "</table>\n",
       "</div>"
      ],
      "text/plain": [
       "  Username  manga_id  rating\n",
       "0   904jed         2       8\n",
       "1   904jed     75989       8\n",
       "2   904jed     95210      10\n",
       "3   904jed      4608       0\n",
       "4   904jed      1528      10"
      ]
     },
     "execution_count": 57,
     "metadata": {},
     "output_type": "execute_result"
    }
   ],
   "source": [
    "df.head()"
   ]
  },
  {
   "cell_type": "code",
   "execution_count": 58,
   "id": "9b831f3e",
   "metadata": {},
   "outputs": [
    {
     "data": {
      "text/plain": [
       "0    116778\n",
       "dtype: int64"
      ]
     },
     "execution_count": 58,
     "metadata": {},
     "output_type": "execute_result"
    }
   ],
   "source": [
    "df['manga_id'].mode()"
   ]
  },
  {
   "cell_type": "code",
   "execution_count": 59,
   "id": "4853671b",
   "metadata": {},
   "outputs": [
    {
     "data": {
      "text/html": [
       "<div>\n",
       "<style scoped>\n",
       "    .dataframe tbody tr th:only-of-type {\n",
       "        vertical-align: middle;\n",
       "    }\n",
       "\n",
       "    .dataframe tbody tr th {\n",
       "        vertical-align: top;\n",
       "    }\n",
       "\n",
       "    .dataframe thead th {\n",
       "        text-align: right;\n",
       "    }\n",
       "</style>\n",
       "<table border=\"1\" class=\"dataframe\">\n",
       "  <thead>\n",
       "    <tr style=\"text-align: right;\">\n",
       "      <th></th>\n",
       "      <th>Username</th>\n",
       "      <th>manga_id</th>\n",
       "      <th>rating</th>\n",
       "    </tr>\n",
       "  </thead>\n",
       "  <tbody>\n",
       "    <tr>\n",
       "      <th>0</th>\n",
       "      <td>904jed</td>\n",
       "      <td>2</td>\n",
       "      <td>8</td>\n",
       "    </tr>\n",
       "    <tr>\n",
       "      <th>1</th>\n",
       "      <td>904jed</td>\n",
       "      <td>75989</td>\n",
       "      <td>8</td>\n",
       "    </tr>\n",
       "    <tr>\n",
       "      <th>2</th>\n",
       "      <td>904jed</td>\n",
       "      <td>95210</td>\n",
       "      <td>10</td>\n",
       "    </tr>\n",
       "    <tr>\n",
       "      <th>3</th>\n",
       "      <td>904jed</td>\n",
       "      <td>4608</td>\n",
       "      <td>0</td>\n",
       "    </tr>\n",
       "    <tr>\n",
       "      <th>4</th>\n",
       "      <td>904jed</td>\n",
       "      <td>1528</td>\n",
       "      <td>10</td>\n",
       "    </tr>\n",
       "  </tbody>\n",
       "</table>\n",
       "</div>"
      ],
      "text/plain": [
       "  Username  manga_id  rating\n",
       "0   904jed         2       8\n",
       "1   904jed     75989       8\n",
       "2   904jed     95210      10\n",
       "3   904jed      4608       0\n",
       "4   904jed      1528      10"
      ]
     },
     "execution_count": 59,
     "metadata": {},
     "output_type": "execute_result"
    }
   ],
   "source": [
    "df.head()"
   ]
  },
  {
   "cell_type": "markdown",
   "id": "93f58a89",
   "metadata": {},
   "source": [
    "# repeat for second df"
   ]
  },
  {
   "cell_type": "code",
   "execution_count": 66,
   "id": "7b35bb9e",
   "metadata": {},
   "outputs": [],
   "source": [
    "df2=pd.read_csv('users_manga2.csv')"
   ]
  },
  {
   "cell_type": "code",
   "execution_count": 69,
   "id": "ea3893db",
   "metadata": {},
   "outputs": [],
   "source": [
    "df2.columns=['Username','manga_id','rating']"
   ]
  },
  {
   "cell_type": "code",
   "execution_count": 70,
   "id": "c4b54cf8",
   "metadata": {},
   "outputs": [],
   "source": [
    "df2['Username'] = df2['Username'].str.replace(\"'\", \"\")"
   ]
  },
  {
   "cell_type": "code",
   "execution_count": 71,
   "id": "fc3ae4b9",
   "metadata": {},
   "outputs": [
    {
     "data": {
      "text/html": [
       "<div>\n",
       "<style scoped>\n",
       "    .dataframe tbody tr th:only-of-type {\n",
       "        vertical-align: middle;\n",
       "    }\n",
       "\n",
       "    .dataframe tbody tr th {\n",
       "        vertical-align: top;\n",
       "    }\n",
       "\n",
       "    .dataframe thead th {\n",
       "        text-align: right;\n",
       "    }\n",
       "</style>\n",
       "<table border=\"1\" class=\"dataframe\">\n",
       "  <thead>\n",
       "    <tr style=\"text-align: right;\">\n",
       "      <th></th>\n",
       "      <th>Username</th>\n",
       "      <th>manga_id</th>\n",
       "      <th>rating</th>\n",
       "    </tr>\n",
       "  </thead>\n",
       "  <tbody>\n",
       "    <tr>\n",
       "      <th>0</th>\n",
       "      <td>[ryo-san</td>\n",
       "      <td>21582</td>\n",
       "      <td>0]</td>\n",
       "    </tr>\n",
       "    <tr>\n",
       "      <th>1</th>\n",
       "      <td>[ryo-san</td>\n",
       "      <td>92683</td>\n",
       "      <td>8]</td>\n",
       "    </tr>\n",
       "    <tr>\n",
       "      <th>2</th>\n",
       "      <td>[ryo-san</td>\n",
       "      <td>60993</td>\n",
       "      <td>0]</td>\n",
       "    </tr>\n",
       "    <tr>\n",
       "      <th>3</th>\n",
       "      <td>[ryo-san</td>\n",
       "      <td>94175</td>\n",
       "      <td>9]</td>\n",
       "    </tr>\n",
       "    <tr>\n",
       "      <th>4</th>\n",
       "      <td>[ryo-san</td>\n",
       "      <td>114451</td>\n",
       "      <td>9]</td>\n",
       "    </tr>\n",
       "  </tbody>\n",
       "</table>\n",
       "</div>"
      ],
      "text/plain": [
       "   Username manga_id rating\n",
       "0  [ryo-san    21582     0]\n",
       "1  [ryo-san    92683     8]\n",
       "2  [ryo-san    60993     0]\n",
       "3  [ryo-san    94175     9]\n",
       "4  [ryo-san   114451     9]"
      ]
     },
     "execution_count": 71,
     "metadata": {},
     "output_type": "execute_result"
    }
   ],
   "source": [
    "df2.head()"
   ]
  },
  {
   "cell_type": "code",
   "execution_count": 72,
   "id": "548147b2",
   "metadata": {},
   "outputs": [
    {
     "name": "stderr",
     "output_type": "stream",
     "text": [
      "C:\\Users\\15623\\AppData\\Local\\Temp\\ipykernel_10080\\2701373.py:1: FutureWarning: The default value of regex will change from True to False in a future version. In addition, single character regular expressions will*not* be treated as literal strings when regex=True.\n",
      "  df2['Username'] = df2['Username'].str.replace('[' ,\"\")\n",
      "C:\\Users\\15623\\AppData\\Local\\Temp\\ipykernel_10080\\2701373.py:2: FutureWarning: The default value of regex will change from True to False in a future version. In addition, single character regular expressions will*not* be treated as literal strings when regex=True.\n",
      "  df2['rating'] = df2['rating'].str.replace(']' ,\"\")\n"
     ]
    }
   ],
   "source": [
    "df2['Username'] = df2['Username'].str.replace('[' ,\"\")\n",
    "df2['rating'] = df2['rating'].str.replace(']' ,\"\")"
   ]
  },
  {
   "cell_type": "code",
   "execution_count": 73,
   "id": "2e41eb77",
   "metadata": {},
   "outputs": [],
   "source": [
    "df2['rating']=pd.to_numeric(df2['rating'])\n",
    "df2['manga_id']=pd.to_numeric(df2['manga_id'])"
   ]
  },
  {
   "cell_type": "code",
   "execution_count": 74,
   "id": "7556c342",
   "metadata": {},
   "outputs": [
    {
     "data": {
      "text/html": [
       "<div>\n",
       "<style scoped>\n",
       "    .dataframe tbody tr th:only-of-type {\n",
       "        vertical-align: middle;\n",
       "    }\n",
       "\n",
       "    .dataframe tbody tr th {\n",
       "        vertical-align: top;\n",
       "    }\n",
       "\n",
       "    .dataframe thead th {\n",
       "        text-align: right;\n",
       "    }\n",
       "</style>\n",
       "<table border=\"1\" class=\"dataframe\">\n",
       "  <thead>\n",
       "    <tr style=\"text-align: right;\">\n",
       "      <th></th>\n",
       "      <th>Username</th>\n",
       "      <th>manga_id</th>\n",
       "      <th>rating</th>\n",
       "    </tr>\n",
       "  </thead>\n",
       "  <tbody>\n",
       "    <tr>\n",
       "      <th>0</th>\n",
       "      <td>904jed</td>\n",
       "      <td>2</td>\n",
       "      <td>8</td>\n",
       "    </tr>\n",
       "    <tr>\n",
       "      <th>1</th>\n",
       "      <td>904jed</td>\n",
       "      <td>75989</td>\n",
       "      <td>8</td>\n",
       "    </tr>\n",
       "    <tr>\n",
       "      <th>2</th>\n",
       "      <td>904jed</td>\n",
       "      <td>95210</td>\n",
       "      <td>10</td>\n",
       "    </tr>\n",
       "    <tr>\n",
       "      <th>3</th>\n",
       "      <td>904jed</td>\n",
       "      <td>4608</td>\n",
       "      <td>0</td>\n",
       "    </tr>\n",
       "    <tr>\n",
       "      <th>4</th>\n",
       "      <td>904jed</td>\n",
       "      <td>1528</td>\n",
       "      <td>10</td>\n",
       "    </tr>\n",
       "  </tbody>\n",
       "</table>\n",
       "</div>"
      ],
      "text/plain": [
       "  Username  manga_id  rating\n",
       "0   904jed         2       8\n",
       "1   904jed     75989       8\n",
       "2   904jed     95210      10\n",
       "3   904jed      4608       0\n",
       "4   904jed      1528      10"
      ]
     },
     "execution_count": 74,
     "metadata": {},
     "output_type": "execute_result"
    }
   ],
   "source": [
    "df.head()"
   ]
  },
  {
   "cell_type": "code",
   "execution_count": 75,
   "id": "12bf80c9",
   "metadata": {},
   "outputs": [
    {
     "data": {
      "text/html": [
       "<div>\n",
       "<style scoped>\n",
       "    .dataframe tbody tr th:only-of-type {\n",
       "        vertical-align: middle;\n",
       "    }\n",
       "\n",
       "    .dataframe tbody tr th {\n",
       "        vertical-align: top;\n",
       "    }\n",
       "\n",
       "    .dataframe thead th {\n",
       "        text-align: right;\n",
       "    }\n",
       "</style>\n",
       "<table border=\"1\" class=\"dataframe\">\n",
       "  <thead>\n",
       "    <tr style=\"text-align: right;\">\n",
       "      <th></th>\n",
       "      <th>Username</th>\n",
       "      <th>manga_id</th>\n",
       "      <th>rating</th>\n",
       "    </tr>\n",
       "  </thead>\n",
       "  <tbody>\n",
       "    <tr>\n",
       "      <th>0</th>\n",
       "      <td>ryo-san</td>\n",
       "      <td>21582</td>\n",
       "      <td>0</td>\n",
       "    </tr>\n",
       "    <tr>\n",
       "      <th>1</th>\n",
       "      <td>ryo-san</td>\n",
       "      <td>92683</td>\n",
       "      <td>8</td>\n",
       "    </tr>\n",
       "    <tr>\n",
       "      <th>2</th>\n",
       "      <td>ryo-san</td>\n",
       "      <td>60993</td>\n",
       "      <td>0</td>\n",
       "    </tr>\n",
       "    <tr>\n",
       "      <th>3</th>\n",
       "      <td>ryo-san</td>\n",
       "      <td>94175</td>\n",
       "      <td>9</td>\n",
       "    </tr>\n",
       "    <tr>\n",
       "      <th>4</th>\n",
       "      <td>ryo-san</td>\n",
       "      <td>114451</td>\n",
       "      <td>9</td>\n",
       "    </tr>\n",
       "  </tbody>\n",
       "</table>\n",
       "</div>"
      ],
      "text/plain": [
       "  Username  manga_id  rating\n",
       "0  ryo-san     21582       0\n",
       "1  ryo-san     92683       8\n",
       "2  ryo-san     60993       0\n",
       "3  ryo-san     94175       9\n",
       "4  ryo-san    114451       9"
      ]
     },
     "execution_count": 75,
     "metadata": {},
     "output_type": "execute_result"
    }
   ],
   "source": [
    "df2.head()"
   ]
  },
  {
   "cell_type": "markdown",
   "id": "1b87ebd4",
   "metadata": {},
   "source": [
    "# JOIN 2 DF"
   ]
  },
  {
   "cell_type": "code",
   "execution_count": 76,
   "id": "a3c1b9e8",
   "metadata": {},
   "outputs": [],
   "source": [
    "user_manga=pd.concat([df, df2], ignore_index=True)"
   ]
  },
  {
   "cell_type": "code",
   "execution_count": 77,
   "id": "abaaa5eb",
   "metadata": {},
   "outputs": [
    {
     "data": {
      "text/html": [
       "<div>\n",
       "<style scoped>\n",
       "    .dataframe tbody tr th:only-of-type {\n",
       "        vertical-align: middle;\n",
       "    }\n",
       "\n",
       "    .dataframe tbody tr th {\n",
       "        vertical-align: top;\n",
       "    }\n",
       "\n",
       "    .dataframe thead th {\n",
       "        text-align: right;\n",
       "    }\n",
       "</style>\n",
       "<table border=\"1\" class=\"dataframe\">\n",
       "  <thead>\n",
       "    <tr style=\"text-align: right;\">\n",
       "      <th></th>\n",
       "      <th>Username</th>\n",
       "      <th>manga_id</th>\n",
       "      <th>rating</th>\n",
       "    </tr>\n",
       "  </thead>\n",
       "  <tbody>\n",
       "    <tr>\n",
       "      <th>0</th>\n",
       "      <td>904jed</td>\n",
       "      <td>2</td>\n",
       "      <td>8</td>\n",
       "    </tr>\n",
       "    <tr>\n",
       "      <th>1</th>\n",
       "      <td>904jed</td>\n",
       "      <td>75989</td>\n",
       "      <td>8</td>\n",
       "    </tr>\n",
       "    <tr>\n",
       "      <th>2</th>\n",
       "      <td>904jed</td>\n",
       "      <td>95210</td>\n",
       "      <td>10</td>\n",
       "    </tr>\n",
       "    <tr>\n",
       "      <th>3</th>\n",
       "      <td>904jed</td>\n",
       "      <td>4608</td>\n",
       "      <td>0</td>\n",
       "    </tr>\n",
       "    <tr>\n",
       "      <th>4</th>\n",
       "      <td>904jed</td>\n",
       "      <td>1528</td>\n",
       "      <td>10</td>\n",
       "    </tr>\n",
       "    <tr>\n",
       "      <th>...</th>\n",
       "      <td>...</td>\n",
       "      <td>...</td>\n",
       "      <td>...</td>\n",
       "    </tr>\n",
       "    <tr>\n",
       "      <th>98495</th>\n",
       "      <td>Zoneling</td>\n",
       "      <td>141506</td>\n",
       "      <td>5</td>\n",
       "    </tr>\n",
       "    <tr>\n",
       "      <th>98496</th>\n",
       "      <td>Zoneling</td>\n",
       "      <td>122925</td>\n",
       "      <td>4</td>\n",
       "    </tr>\n",
       "    <tr>\n",
       "      <th>98497</th>\n",
       "      <td>Zoneling</td>\n",
       "      <td>126037</td>\n",
       "      <td>4</td>\n",
       "    </tr>\n",
       "    <tr>\n",
       "      <th>98498</th>\n",
       "      <td>Zoneling</td>\n",
       "      <td>124373</td>\n",
       "      <td>5</td>\n",
       "    </tr>\n",
       "    <tr>\n",
       "      <th>98499</th>\n",
       "      <td>Zoneling</td>\n",
       "      <td>89087</td>\n",
       "      <td>6</td>\n",
       "    </tr>\n",
       "  </tbody>\n",
       "</table>\n",
       "<p>98500 rows × 3 columns</p>\n",
       "</div>"
      ],
      "text/plain": [
       "       Username  manga_id  rating\n",
       "0        904jed         2       8\n",
       "1        904jed     75989       8\n",
       "2        904jed     95210      10\n",
       "3        904jed      4608       0\n",
       "4        904jed      1528      10\n",
       "...         ...       ...     ...\n",
       "98495  Zoneling    141506       5\n",
       "98496  Zoneling    122925       4\n",
       "98497  Zoneling    126037       4\n",
       "98498  Zoneling    124373       5\n",
       "98499  Zoneling     89087       6\n",
       "\n",
       "[98500 rows x 3 columns]"
      ]
     },
     "execution_count": 77,
     "metadata": {},
     "output_type": "execute_result"
    }
   ],
   "source": [
    "user_manga"
   ]
  },
  {
   "cell_type": "code",
   "execution_count": 78,
   "id": "549c4ec5",
   "metadata": {},
   "outputs": [],
   "source": [
    "user_manga.to_csv('mal_users_manga.csv', index=False)"
   ]
  },
  {
   "cell_type": "code",
   "execution_count": null,
   "id": "3f86838c",
   "metadata": {},
   "outputs": [],
   "source": []
  }
 ],
 "metadata": {
  "kernelspec": {
   "display_name": "Python 3 (ipykernel)",
   "language": "python",
   "name": "python3"
  },
  "language_info": {
   "codemirror_mode": {
    "name": "ipython",
    "version": 3
   },
   "file_extension": ".py",
   "mimetype": "text/x-python",
   "name": "python",
   "nbconvert_exporter": "python",
   "pygments_lexer": "ipython3",
   "version": "3.9.2"
  }
 },
 "nbformat": 4,
 "nbformat_minor": 5
}
